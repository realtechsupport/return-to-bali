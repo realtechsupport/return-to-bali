{
 "cells": [
  {
   "cell_type": "code",
   "execution_count": 1,
   "metadata": {},
   "outputs": [],
   "source": [
    "from torchvision import transforms\n",
    "from utils import *\n",
    "from PIL import Image, ImageDraw, ImageFont\n",
    "import matplotlib.pyplot as plt\n",
    "from tqdm import tqdm\n",
    "import warnings; warnings.simplefilter('ignore')\n",
    "import pickle as pk\n",
    "import pandas as pd\n",
    "import ast\n",
    "import os\n",
    "import pickle\n",
    "import numpy as np"
   ]
  },
  {
   "cell_type": "code",
   "execution_count": 2,
   "metadata": {},
   "outputs": [
    {
     "name": "stdout",
     "output_type": "stream",
     "text": [
      "cuda\n",
      "\n",
      "Loaded checkpoint from epoch 51.\n",
      "\n"
     ]
    }
   ],
   "source": [
    "device = torch.device(\"cuda\" if torch.cuda.is_available() else \"cpu\")\n",
    "print(device)\n",
    "# Load model checkpoint\n",
    "# checkpoint = 'checkpoint_ssd300.pth.tar'\n",
    "checkpoint = 'checkpoint_ssd300_experiment2.pth.tar'\n",
    "checkpoint = torch.load(checkpoint)\n",
    "start_epoch = checkpoint['epoch'] + 1\n",
    "print('\\nLoaded checkpoint from epoch %d.\\n' % start_epoch)\n",
    "model = checkpoint['model']\n",
    "model = model.to(device)\n",
    "model.eval()\n",
    "\n",
    "# Transforms\n",
    "resize = transforms.Resize((300, 300))\n",
    "to_tensor = transforms.ToTensor()\n",
    "normalize = transforms.Normalize(mean=[0.485, 0.456, 0.406],\n",
    "                                 std=[0.229, 0.224, 0.225])"
   ]
  },
  {
   "cell_type": "code",
   "execution_count": 3,
   "metadata": {},
   "outputs": [],
   "source": [
    "labels = ('nilam', 'guava', 'sawo', 'taro','bamboo', 'coffeearabica','lychee','aroid','cinnamon',\n",
    "             'mango','papaya','dragonfruit','vanilla','jackfruit','frangipani','sugarpalm','whitepepper',\n",
    "             'snakefruit','waterguava','cacao','zodia','starfruit','passiflora','durian','mangosteen','banana')\n",
    "\n",
    "label_map = {k: v + 1 for v, k in enumerate(labels)}\n",
    "label_map['background'] = 0\n",
    "rev_label_map = {v: k for k, v in label_map.items()}  # Inverse mapping\n",
    "distinct_colors = ['#e6194b', '#3cb44b', '#ffe119', '#0082c8', '#f58231', '#911eb4', '#46f0f0', '#f032e6',\n",
    "                   '#d2f53c', '#fabebe', '#008080', '#000080', '#aa6e28', '#fffac8', '#800000', '#aaffc3', '#808000',\n",
    "                   '#ffd8b1', '#e6beff', '#808080', '#FFFFFF', '#FFFFFF', '#FFFFFF','#FFFFFF','#FFFFFF','#FFFFFF', '#FFFFFF']\n",
    "label_color_map = {k: distinct_colors[i] for i, k in enumerate(label_map.keys())}"
   ]
  },
  {
   "cell_type": "code",
   "execution_count": 4,
   "metadata": {},
   "outputs": [],
   "source": [
    "def detect(original_image, min_score, max_overlap, top_k, suppress=None):\n",
    "    \"\"\"\n",
    "    Detect objects in an image with a trained SSD300, and visualize the results.\n",
    "\n",
    "    :param original_image: image, a PIL Image\n",
    "    :param min_score: minimum threshold for a detected box to be considered a match for a certain class\n",
    "    :param max_overlap: maximum overlap two boxes can have so that the one with the lower score is not suppressed via Non-Maximum Suppression (NMS)\n",
    "    :param top_k: if there are a lot of resulting detection across all classes, keep only the top 'k'\n",
    "    :param suppress: classes that you know for sure cannot be in the image or you do not want in the image, a list\n",
    "    :return: annotated image, a PIL Image\n",
    "    \"\"\"\n",
    "\n",
    "    # Transform\n",
    "    image = normalize(to_tensor(resize(original_image)))\n",
    "\n",
    "    # Move to default device\n",
    "    image = image.to(device)\n",
    "\n",
    "    # Forward prop.\n",
    "    predicted_locs, predicted_scores = model(image.unsqueeze(0))\n",
    "\n",
    "    # Detect objects in SSD output\n",
    "    det_boxes, det_labels, det_scores = model.detect_objects(predicted_locs, predicted_scores, min_score=min_score,\n",
    "                                                             max_overlap=max_overlap, top_k=top_k)\n",
    "\n",
    "    # Move detections to the CPU\n",
    "    det_boxes = det_boxes[0].to('cpu')\n",
    "\n",
    "    # Transform to original image dimensions\n",
    "    original_dims = torch.FloatTensor(\n",
    "        [original_image.width, original_image.height, original_image.width, original_image.height]).unsqueeze(0)\n",
    "    det_boxes = det_boxes * original_dims\n",
    "\n",
    "    # Decode class integer labels\n",
    "    det_labels = [rev_label_map[l] for l in det_labels[0].to('cpu').tolist()]\n",
    "\n",
    "    # If no objects found, the detected labels will be set to ['0.'], i.e. ['background'] in SSD300.detect_objects() in model.py\n",
    "#     if det_labels == ['background']:\n",
    "#         # Just return original image\n",
    "#         return original_image\n",
    "\n",
    "    return det_labels"
   ]
  },
  {
   "cell_type": "code",
   "execution_count": 5,
   "metadata": {},
   "outputs": [],
   "source": [
    "path = \"../../data/bali-26/\"\n",
    "folders = os.listdir(path)"
   ]
  },
  {
   "cell_type": "code",
   "execution_count": 6,
   "metadata": {},
   "outputs": [
    {
     "ename": "KeyboardInterrupt",
     "evalue": "",
     "output_type": "error",
     "traceback": [
      "\u001b[0;31m---------------------------------------------------------------------------\u001b[0m",
      "\u001b[0;31mKeyboardInterrupt\u001b[0m                         Traceback (most recent call last)",
      "\u001b[0;32m<ipython-input-6-5c4f58bba76d>\u001b[0m in \u001b[0;36m<module>\u001b[0;34m\u001b[0m\n\u001b[1;32m     11\u001b[0m             \u001b[0;32mcontinue\u001b[0m\u001b[0;34m\u001b[0m\u001b[0;34m\u001b[0m\u001b[0m\n\u001b[1;32m     12\u001b[0m         \u001b[0mimage_path\u001b[0m \u001b[0;34m=\u001b[0m \u001b[0mos\u001b[0m\u001b[0;34m.\u001b[0m\u001b[0mpath\u001b[0m\u001b[0;34m.\u001b[0m\u001b[0mjoin\u001b[0m\u001b[0;34m(\u001b[0m\u001b[0mclass_path\u001b[0m\u001b[0;34m,\u001b[0m \u001b[0mimage\u001b[0m\u001b[0;34m)\u001b[0m\u001b[0;34m\u001b[0m\u001b[0;34m\u001b[0m\u001b[0m\n\u001b[0;32m---> 13\u001b[0;31m         \u001b[0moriginal_image\u001b[0m \u001b[0;34m=\u001b[0m \u001b[0mImage\u001b[0m\u001b[0;34m.\u001b[0m\u001b[0mopen\u001b[0m\u001b[0;34m(\u001b[0m\u001b[0mimage_path\u001b[0m\u001b[0;34m,\u001b[0m \u001b[0mmode\u001b[0m\u001b[0;34m=\u001b[0m\u001b[0;34m'r'\u001b[0m\u001b[0;34m)\u001b[0m\u001b[0;34m.\u001b[0m\u001b[0mconvert\u001b[0m\u001b[0;34m(\u001b[0m\u001b[0;34m'RGB'\u001b[0m\u001b[0;34m)\u001b[0m\u001b[0;34m\u001b[0m\u001b[0;34m\u001b[0m\u001b[0m\n\u001b[0m\u001b[1;32m     14\u001b[0m         \u001b[0mpredicted_labels\u001b[0m \u001b[0;34m=\u001b[0m \u001b[0mdetect\u001b[0m\u001b[0;34m(\u001b[0m\u001b[0moriginal_image\u001b[0m\u001b[0;34m,\u001b[0m \u001b[0mmin_score\u001b[0m\u001b[0;34m=\u001b[0m\u001b[0;36m0.2\u001b[0m\u001b[0;34m,\u001b[0m \u001b[0mmax_overlap\u001b[0m\u001b[0;34m=\u001b[0m\u001b[0;36m0.5\u001b[0m\u001b[0;34m,\u001b[0m \u001b[0mtop_k\u001b[0m\u001b[0;34m=\u001b[0m\u001b[0;36m3\u001b[0m\u001b[0;34m)\u001b[0m\u001b[0;34m\u001b[0m\u001b[0;34m\u001b[0m\u001b[0m\n\u001b[1;32m     15\u001b[0m         \u001b[0mnum_files\u001b[0m \u001b[0;34m+=\u001b[0m \u001b[0;36m1\u001b[0m\u001b[0;34m\u001b[0m\u001b[0;34m\u001b[0m\u001b[0m\n",
      "\u001b[0;32m~/env/lib/python3.6/site-packages/PIL/Image.py\u001b[0m in \u001b[0;36mconvert\u001b[0;34m(self, mode, matrix, dither, palette, colors)\u001b[0m\n\u001b[1;32m    899\u001b[0m         \"\"\"\n\u001b[1;32m    900\u001b[0m \u001b[0;34m\u001b[0m\u001b[0m\n\u001b[0;32m--> 901\u001b[0;31m         \u001b[0mself\u001b[0m\u001b[0;34m.\u001b[0m\u001b[0mload\u001b[0m\u001b[0;34m(\u001b[0m\u001b[0;34m)\u001b[0m\u001b[0;34m\u001b[0m\u001b[0;34m\u001b[0m\u001b[0m\n\u001b[0m\u001b[1;32m    902\u001b[0m \u001b[0;34m\u001b[0m\u001b[0m\n\u001b[1;32m    903\u001b[0m         \u001b[0;32mif\u001b[0m \u001b[0;32mnot\u001b[0m \u001b[0mmode\u001b[0m \u001b[0;32mand\u001b[0m \u001b[0mself\u001b[0m\u001b[0;34m.\u001b[0m\u001b[0mmode\u001b[0m \u001b[0;34m==\u001b[0m \u001b[0;34m\"P\"\u001b[0m\u001b[0;34m:\u001b[0m\u001b[0;34m\u001b[0m\u001b[0;34m\u001b[0m\u001b[0m\n",
      "\u001b[0;32m~/env/lib/python3.6/site-packages/PIL/ImageFile.py\u001b[0m in \u001b[0;36mload\u001b[0;34m(self)\u001b[0m\n\u001b[1;32m    249\u001b[0m \u001b[0;34m\u001b[0m\u001b[0m\n\u001b[1;32m    250\u001b[0m                             \u001b[0mb\u001b[0m \u001b[0;34m=\u001b[0m \u001b[0mb\u001b[0m \u001b[0;34m+\u001b[0m \u001b[0ms\u001b[0m\u001b[0;34m\u001b[0m\u001b[0;34m\u001b[0m\u001b[0m\n\u001b[0;32m--> 251\u001b[0;31m                             \u001b[0mn\u001b[0m\u001b[0;34m,\u001b[0m \u001b[0merr_code\u001b[0m \u001b[0;34m=\u001b[0m \u001b[0mdecoder\u001b[0m\u001b[0;34m.\u001b[0m\u001b[0mdecode\u001b[0m\u001b[0;34m(\u001b[0m\u001b[0mb\u001b[0m\u001b[0;34m)\u001b[0m\u001b[0;34m\u001b[0m\u001b[0;34m\u001b[0m\u001b[0m\n\u001b[0m\u001b[1;32m    252\u001b[0m                             \u001b[0;32mif\u001b[0m \u001b[0mn\u001b[0m \u001b[0;34m<\u001b[0m \u001b[0;36m0\u001b[0m\u001b[0;34m:\u001b[0m\u001b[0;34m\u001b[0m\u001b[0;34m\u001b[0m\u001b[0m\n\u001b[1;32m    253\u001b[0m                                 \u001b[0;32mbreak\u001b[0m\u001b[0;34m\u001b[0m\u001b[0;34m\u001b[0m\u001b[0m\n",
      "\u001b[0;31mKeyboardInterrupt\u001b[0m: "
     ]
    }
   ],
   "source": [
    "result = {}\n",
    "for class_name in folders:\n",
    "    class_path = os.path.join(path,class_name)\n",
    "    images = os.listdir(class_path)\n",
    "    \n",
    "    num_files = 0\n",
    "    top1 = 0\n",
    "    topN = 0\n",
    "    for image in images:\n",
    "        if '.pk' in image:\n",
    "            continue\n",
    "        image_path = os.path.join(class_path, image)\n",
    "        original_image = Image.open(image_path, mode='r').convert('RGB')\n",
    "        predicted_labels = detect(original_image, min_score=0.2, max_overlap=0.5, top_k=3)\n",
    "        num_files += 1\n",
    "        \n",
    "        if class_name == predicted_labels[0]:\n",
    "            top1 += 1\n",
    "        if class_name in predicted_labels:\n",
    "            topN += 1\n",
    "    \n",
    "    top1_score = float(top1 / num_files)\n",
    "    topN_score = float(topN / num_files)\n",
    "    top1_error = 100*float(\"%.3f\" %(1.0 - top1_score))\n",
    "    topN_error = 100*float(\"%.3f\" %(1.0 - topN_score))\n",
    "    result[class_name] = {\n",
    "        'top1_error': top1_error,\n",
    "        'topN_error': topN_error\n",
    "    }\n",
    "    \n",
    "    print (result[class_name])"
   ]
  },
  {
   "cell_type": "code",
   "execution_count": 15,
   "metadata": {},
   "outputs": [
    {
     "data": {
      "text/plain": [
       "{'nilam': {'top1_error': 0.0, 'topN_error': 0.0},\n",
       " 'guava': {'top1_error': 1.4000000000000001, 'topN_error': 1.4000000000000001},\n",
       " 'sawo': {'top1_error': 0.2, 'topN_error': 0.2},\n",
       " 'taro': {'top1_error': 7.3999999999999995, 'topN_error': 1.5},\n",
       " 'bamboo': {'top1_error': 9.1, 'topN_error': 9.1},\n",
       " 'coffeearabica': {'top1_error': 0.4, 'topN_error': 0.4},\n",
       " 'lychee': {'top1_error': 17.2, 'topN_error': 13.5},\n",
       " 'aroid': {'top1_error': 4.3999999999999995, 'topN_error': 3.1},\n",
       " 'cinnamon': {'top1_error': 5.4, 'topN_error': 4.0},\n",
       " 'mango': {'top1_error': 6.9, 'topN_error': 0.0},\n",
       " 'papaya': {'top1_error': 18.3, 'topN_error': 13.5},\n",
       " 'dragonfruit': {'top1_error': 1.7000000000000002, 'topN_error': 0.4},\n",
       " 'vanilla': {'top1_error': 1.4000000000000001,\n",
       "  'topN_error': 1.4000000000000001},\n",
       " 'jackfruit': {'top1_error': 4.1000000000000005, 'topN_error': 1.2},\n",
       " 'frangipani': {'top1_error': 0.6, 'topN_error': 0.0},\n",
       " 'sugarpalm': {'top1_error': 68.0, 'topN_error': 46.800000000000004},\n",
       " 'whitepepper': {'top1_error': 0.1, 'topN_error': 0.1},\n",
       " 'snakefruit': {'top1_error': 23.0, 'topN_error': 11.600000000000001},\n",
       " 'waterguava': {'top1_error': 20.7, 'topN_error': 14.799999999999999},\n",
       " 'cacao': {'top1_error': 93.7, 'topN_error': 68.60000000000001},\n",
       " 'zodia': {'top1_error': 0.0, 'topN_error': 0.0},\n",
       " 'starfruit': {'top1_error': 20.0, 'topN_error': 11.1},\n",
       " 'passiflora': {'top1_error': 2.1, 'topN_error': 0.2},\n",
       " 'durian': {'top1_error': 8.3, 'topN_error': 6.0},\n",
       " 'mangosteen': {'top1_error': 25.1, 'topN_error': 13.600000000000001},\n",
       " 'banana': {'top1_error': 34.1, 'topN_error': 10.4}}"
      ]
     },
     "execution_count": 15,
     "metadata": {},
     "output_type": "execute_result"
    }
   ],
   "source": [
    "result"
   ]
  },
  {
   "cell_type": "code",
   "execution_count": 40,
   "metadata": {},
   "outputs": [],
   "source": [
    "df = pd.DataFrame(result).transpose()\n",
    "\n",
    "df.columns = ['top1_error', 'top3_error']\n",
    "\n",
    "fig = df.plot(kind='bar', figsize=(12,12), xlabel = 'classes', ylabel ='%error', stacked = False, grid =True).get_figure()"
   ]
  },
  {
   "cell_type": "code",
   "execution_count": 16,
   "metadata": {},
   "outputs": [],
   "source": [
    "import json"
   ]
  },
  {
   "cell_type": "code",
   "execution_count": 18,
   "metadata": {},
   "outputs": [],
   "source": [
    "# with open(\"./erros.json\", 'r') as f:\n",
    "#     t = json.load(f)"
   ]
  },
  {
   "cell_type": "markdown",
   "metadata": {},
   "source": [
    "### Experiment 2 - without cacao, sugerpalm and banana"
   ]
  },
  {
   "cell_type": "code",
   "execution_count": 7,
   "metadata": {},
   "outputs": [],
   "source": [
    "path = \"../../data/bali-26/\"\n",
    "folders = os.listdir(path)"
   ]
  },
  {
   "cell_type": "code",
   "execution_count": 9,
   "metadata": {},
   "outputs": [
    {
     "name": "stdout",
     "output_type": "stream",
     "text": [
      "{'top1_error': 0.0, 'topN_error': 0.0}\n",
      "{'top1_error': 1.6, 'topN_error': 1.6}\n",
      "{'top1_error': 0.4, 'topN_error': 0.4}\n",
      "{'top1_error': 0.7000000000000001, 'topN_error': 0.1}\n",
      "{'top1_error': 24.2, 'topN_error': 18.9}\n",
      "{'top1_error': 0.0, 'topN_error': 0.0}\n",
      "{'top1_error': 27.400000000000002, 'topN_error': 26.5}\n",
      "{'top1_error': 2.9000000000000004, 'topN_error': 2.6}\n",
      "{'top1_error': 2.9000000000000004, 'topN_error': 2.4}\n",
      "{'top1_error': 11.1, 'topN_error': 2.1}\n",
      "{'top1_error': 21.3, 'topN_error': 16.0}\n",
      "{'top1_error': 0.8999999999999999, 'topN_error': 0.0}\n",
      "{'top1_error': 1.9, 'topN_error': 1.6}\n",
      "{'top1_error': 2.8000000000000003, 'topN_error': 2.1999999999999997}\n",
      "{'top1_error': 23.3, 'topN_error': 8.7}\n",
      "{'top1_error': 0.4, 'topN_error': 0.1}\n",
      "{'top1_error': 7.199999999999999, 'topN_error': 2.9000000000000004}\n",
      "{'top1_error': 24.8, 'topN_error': 18.6}\n",
      "{'top1_error': 0.5, 'topN_error': 0.1}\n",
      "{'top1_error': 6.4, 'topN_error': 3.9}\n",
      "{'top1_error': 0.7000000000000001, 'topN_error': 0.1}\n",
      "{'top1_error': 21.3, 'topN_error': 12.3}\n",
      "{'top1_error': 34.9, 'topN_error': 24.5}\n"
     ]
    }
   ],
   "source": [
    "result = {}\n",
    "predictions = []\n",
    "for class_name in folders:\n",
    "    if class_name in ['banana', 'sugarpalm', 'cacao']: # The classes not included in experiment2\n",
    "        continue\n",
    "    class_path = os.path.join(path,class_name)\n",
    "    images = os.listdir(class_path)\n",
    "    \n",
    "    num_files = 0\n",
    "    top1 = 0\n",
    "    topN = 0\n",
    "    for image in images:\n",
    "        if '.pk' in image:\n",
    "            continue\n",
    "        image_path = os.path.join(class_path, image)\n",
    "        original_image = Image.open(image_path, mode='r').convert('RGB')\n",
    "        predicted_labels = detect(original_image, min_score=0.2, max_overlap=0.5, top_k=3)\n",
    "        predictions.append((predicted_labels,class_name))\n",
    "        num_files += 1\n",
    "        \n",
    "        if class_name == predicted_labels[0]:\n",
    "            top1 += 1\n",
    "        if class_name in predicted_labels:\n",
    "            topN += 1\n",
    "    \n",
    "    top1_score = float(top1 / num_files)\n",
    "    topN_score = float(topN / num_files)\n",
    "    top1_error = 100*float(\"%.3f\" %(1.0 - top1_score))\n",
    "    topN_error = 100*float(\"%.3f\" %(1.0 - topN_score))\n",
    "    result[class_name] = {\n",
    "        'top1_error': top1_error,\n",
    "        'topN_error': topN_error\n",
    "    }\n",
    "    \n",
    "    print (result[class_name])"
   ]
  },
  {
   "cell_type": "code",
   "execution_count": 10,
   "metadata": {},
   "outputs": [
    {
     "data": {
      "text/plain": [
       "{'nilam': {'top1_error': 0.0, 'topN_error': 0.0},\n",
       " 'guava': {'top1_error': 1.6, 'topN_error': 1.6},\n",
       " 'sawo': {'top1_error': 0.4, 'topN_error': 0.4},\n",
       " 'taro': {'top1_error': 0.7000000000000001, 'topN_error': 0.1},\n",
       " 'bamboo': {'top1_error': 24.2, 'topN_error': 18.9},\n",
       " 'coffeearabica': {'top1_error': 0.0, 'topN_error': 0.0},\n",
       " 'lychee': {'top1_error': 27.400000000000002, 'topN_error': 26.5},\n",
       " 'aroid': {'top1_error': 2.9000000000000004, 'topN_error': 2.6},\n",
       " 'cinnamon': {'top1_error': 2.9000000000000004, 'topN_error': 2.4},\n",
       " 'mango': {'top1_error': 11.1, 'topN_error': 2.1},\n",
       " 'papaya': {'top1_error': 21.3, 'topN_error': 16.0},\n",
       " 'dragonfruit': {'top1_error': 0.8999999999999999, 'topN_error': 0.0},\n",
       " 'vanilla': {'top1_error': 1.9, 'topN_error': 1.6},\n",
       " 'jackfruit': {'top1_error': 2.8000000000000003,\n",
       "  'topN_error': 2.1999999999999997},\n",
       " 'frangipani': {'top1_error': 23.3, 'topN_error': 8.7},\n",
       " 'whitepepper': {'top1_error': 0.4, 'topN_error': 0.1},\n",
       " 'snakefruit': {'top1_error': 7.199999999999999,\n",
       "  'topN_error': 2.9000000000000004},\n",
       " 'waterguava': {'top1_error': 24.8, 'topN_error': 18.6},\n",
       " 'zodia': {'top1_error': 0.5, 'topN_error': 0.1},\n",
       " 'starfruit': {'top1_error': 6.4, 'topN_error': 3.9},\n",
       " 'passiflora': {'top1_error': 0.7000000000000001, 'topN_error': 0.1},\n",
       " 'durian': {'top1_error': 21.3, 'topN_error': 12.3},\n",
       " 'mangosteen': {'top1_error': 34.9, 'topN_error': 24.5}}"
      ]
     },
     "execution_count": 10,
     "metadata": {},
     "output_type": "execute_result"
    }
   ],
   "source": [
    "result"
   ]
  },
  {
   "cell_type": "code",
   "execution_count": 11,
   "metadata": {},
   "outputs": [
    {
     "data": {
      "image/png": "[encoded data removed]",
      "text/plain": [
       "<Figure size 864x864 with 1 Axes>"
      ]
     },
     "metadata": {
      "needs_background": "light"
     },
     "output_type": "display_data"
    }
   ],
   "source": [
    "df = pd.DataFrame(result).transpose()\n",
    "\n",
    "df.columns = ['top1_error', 'top3_error']\n",
    "\n",
    "fig = df.plot(kind='bar', figsize=(12,12), xlabel = 'classes', ylabel ='%error', stacked = False, grid =True).get_figure()"
   ]
  },
  {
   "cell_type": "code",
   "execution_count": null,
   "metadata": {},
   "outputs": [],
   "source": []
  }
 ],
 "metadata": {
  "kernelspec": {
   "display_name": "Python 3",
   "language": "python",
   "name": "python3"
  },
  "language_info": {
   "codemirror_mode": {
    "name": "ipython",
    "version": 3
   },
   "file_extension": ".py",
   "mimetype": "text/x-python",
   "name": "python",
   "nbconvert_exporter": "python",
   "pygments_lexer": "ipython3",
   "version": "3.6.9"
  }
 },
 "nbformat": 4,
 "nbformat_minor": 4
}
